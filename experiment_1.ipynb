{
  "cells": [
    {
      "cell_type": "code",
      "execution_count": null,
      "metadata": {
        "colab": {
          "base_uri": "https://localhost:8080/"
        },
        "id": "VZviTsdRVQk9",
        "outputId": "81d376d8-8e27-4f55-f59c-59c23e92bb08"
      },
      "outputs": [
        {
          "name": "stdout",
          "output_type": "stream",
          "text": [
            "Drive already mounted at /content/drive; to attempt to forcibly remount, call drive.mount(\"/content/drive\", force_remount=True).\n"
          ]
        }
      ],
      "source": [
        "from google.colab import drive\n",
        "drive.mount('/content/drive')\n"
      ]
    },
    {
      "cell_type": "code",
      "execution_count": 1,
      "metadata": {
        "id": "82042iMWDv37"
      },
      "outputs": [],
      "source": [
        "from __future__ import print_function, division\n",
        "import numpy as np \n",
        "import pandas as pd \n",
        "import os\n",
        "import networkx as nx\n",
        "from sklearn.model_selection import train_test_split\n",
        "from sklearn.linear_model import LogisticRegression\n",
        "from sklearn.metrics import precision_recall_fscore_support\n",
        "from sklearn.metrics import f1_score\n",
        "from sklearn.ensemble import RandomForestClassifier\n",
        "from sklearn.cluster import KMeans\n",
        "\n",
        "from sklearn.model_selection import GridSearchCV\n",
        "from sklearn.metrics import roc_curve\n"
      ]
    },
    {
      "cell_type": "code",
      "execution_count": 2,
      "metadata": {
        "id": "bBGJL35bVpMe"
      },
      "outputs": [],
      "source": [
        "tx_features = [\"tx_feat_\"+str(i) for i in range(2,95)]\n",
        "agg_features = [\"agg_feat_\"+str(i) for i in range(1,73)]\n",
        "fea_col = [\"txId\",\"time_step\"] + tx_features + agg_features\n",
        "features = pd.read_csv(\"/content/drive/MyDrive/ORI_EVOLVE/elliptic_bitcoin_dataset/elliptic_txs_features.csv\",header=None,names=fea_col)\n",
        "classes = pd.read_csv(\"/content/drive/MyDrive/ORI_EVOLVE/elliptic_bitcoin_dataset/elliptic_txs_classes.csv\")"
      ]
    },
    {
      "cell_type": "code",
      "execution_count": 11,
      "metadata": {
        "id": "qR1Pi3tumiaT"
      },
      "outputs": [],
      "source": [
        "def split_data_af(data):\n",
        "  X_train = data[data['time_step']<35][tx_features+agg_features]\n",
        "  X_test = data[data['time_step']>=35][tx_features+agg_features]\n",
        "  y_train = data[data['time_step']<35]['class']\n",
        "  y_test= data[data['time_step']>=35]['class']\n",
        "  return X_train,X_test,y_train,y_test"
      ]
    },
    {
      "cell_type": "code",
      "execution_count": 12,
      "metadata": {
        "id": "xVh7fTiklNkc"
      },
      "outputs": [],
      "source": [
        "def split_data(data):\n",
        "  X_train = data[data['time_step']<35][tx_features+agg_features+embed_names]\n",
        "  X_test = data[data['time_step']>=35][tx_features+agg_features+embed_names]\n",
        "  y_train = data[data['time_step']<35]['class']\n",
        "  y_test= data[data['time_step']>=35]['class']\n",
        "  return X_train,X_test,y_train,y_test"
      ]
    },
    {
      "cell_type": "code",
      "execution_count": 13,
      "metadata": {
        "id": "6FoO9bxdJ461"
      },
      "outputs": [],
      "source": [
        "def split_data_emb(data):\n",
        "  X_train = data[data['time_step']<35][embed_names]\n",
        "  X_test = data[data['time_step']>=35][embed_names]\n",
        "  y_train = data[data['time_step']<35]['class']\n",
        "  y_test= data[data['time_step']>=35]['class']\n",
        "  return X_train,X_test,y_train,y_test"
      ]
    },
    {
      "cell_type": "code",
      "execution_count": 14,
      "metadata": {
        "id": "9o2R8pBYaeVP"
      },
      "outputs": [],
      "source": [
        "def ratio_data(data):\n",
        "  data_lic = data[data['class']==0]\n",
        "  data_ill = data[data['class']==1]\n",
        "  ratio = data_ill.shape[0]*(0.3/0.7)/data_lic.shape[0]\n",
        "  data_lic = data_lic.sample(frac=ratio,random_state=0)\n",
        "  data = pd.concat([data_lic,data_ill])\n",
        "  return data"
      ]
    },
    {
      "cell_type": "markdown",
      "metadata": {
        "id": "uOTAY2_iWA96"
      },
      "source": [
        "## RF(AF)"
      ]
    },
    {
      "cell_type": "code",
      "execution_count": 15,
      "metadata": {
        "colab": {
          "base_uri": "https://localhost:8080/"
        },
        "id": "pJySz-foV-aJ",
        "outputId": "6e60df76-0e22-466e-a1a9-2eabd1241642"
      },
      "outputs": [
        {
          "output_type": "stream",
          "name": "stdout",
          "text": [
            "AF RandomForest Results\n",
            "Precision:0.906 \n",
            "Recall:0.688 \n",
            "F1 Score:0.782\n",
            "Micro-Average F1 Score: 0.7721032399780342\n"
          ]
        }
      ],
      "source": [
        "data = pd.merge(features,classes,on='txId')\n",
        "data = ratio_data(data)\n",
        "X_train, X_test, y_train, y_test = split_data_af(data)\n",
        "clf = RandomForestClassifier(n_estimators=50, max_features=50,random_state=0,n_jobs=-1).fit(X_train,y_train)\n",
        "preds = clf.predict(X_test)\n",
        "prec,rec,f1,num = precision_recall_fscore_support(y_test,preds, average=None)\n",
        "print(\"AF RandomForest Results\")\n",
        "print(\"Precision:%.3f \\nRecall:%.3f \\nF1 Score:%.3f\"%(prec[1],rec[1],f1[1]))\n",
        "micro_f1 = f1_score(y_test,preds,average='micro')\n",
        "print(\"Micro-Average F1 Score:\",micro_f1)"
      ]
    },
    {
      "cell_type": "markdown",
      "metadata": {
        "id": "0p1YzyMrWO2i"
      },
      "source": [
        "## RF(AF+SDNE)"
      ]
    },
    {
      "cell_type": "code",
      "execution_count": 16,
      "metadata": {
        "colab": {
          "base_uri": "https://localhost:8080/"
        },
        "id": "Us6a16IbWK0F",
        "outputId": "77a15e07-cc05-4f92-f249-9734b17f428a"
      },
      "outputs": [
        {
          "output_type": "stream",
          "name": "stdout",
          "text": [
            "AF+SDNE RandomForest Results\n",
            "Precision:0.886 \n",
            "Recall:0.697 \n",
            "F1 Score:0.780\n",
            "Micro-Average F1 Score: 0.7666117517847335\n"
          ]
        }
      ],
      "source": [
        "emb = pd.read_csv(\"/content/drive/MyDrive/SDNE/sdne_feature_e500_b9.txt\")\n",
        "tx_features = [\"tx_feat_\"+str(i) for i in range(2,95)]\n",
        "agg_features = [\"agg_feat_\"+str(i) for i in range(1,73)]\n",
        "embed_names = [\"emb_feat_\"+str(i) for i in range(1,65)]\n",
        "data = pd.merge(features,emb,on='txId')\n",
        "data = pd.merge(data,classes,on='txId')\n",
        "data.columns = [\"txId\",\"time_step\"] + tx_features + agg_features + embed_names + ['class']\n",
        "data = ratio_data(data)\n",
        "X_train, X_test, y_train, y_test = split_data(data)\n",
        "clf = RandomForestClassifier(n_estimators=50, max_features=50,random_state=0,n_jobs=-1).fit(X_train,y_train)\n",
        "preds = clf.predict(X_test)\n",
        "prec,rec,f1,num = precision_recall_fscore_support(y_test,preds, average=None)\n",
        "print(\"AF+SDNE RandomForest Results\")\n",
        "print(\"Precision:%.3f \\nRecall:%.3f \\nF1 Score:%.3f\"%(prec[1],rec[1],f1[1]))\n",
        "micro_f1 = f1_score(y_test,preds,average='micro')\n",
        "print(\"Micro-Average F1 Score:\",micro_f1)"
      ]
    },
    {
      "cell_type": "markdown",
      "metadata": {
        "id": "HkKS4sbgP5LE"
      },
      "source": [
        "## RF(SDNE)"
      ]
    },
    {
      "cell_type": "code",
      "execution_count": 17,
      "metadata": {
        "colab": {
          "base_uri": "https://localhost:8080/"
        },
        "id": "uTkSYZuPQDBX",
        "outputId": "875ceb92-e35a-4ab9-f435-aadf069aeff1"
      },
      "outputs": [
        {
          "output_type": "stream",
          "name": "stdout",
          "text": [
            "AF+SDNE RandomForest Results\n",
            "Precision:0.652 \n",
            "Recall:0.605 \n",
            "F1 Score:0.628\n",
            "Micro-Average F1 Score: 0.5733113673805601\n"
          ]
        }
      ],
      "source": [
        "emb = pd.read_csv(\"/content/drive/MyDrive/SDNE/sdne_feature_e500_b9.txt\")\n",
        "tx_features = [\"tx_feat_\"+str(i) for i in range(2,95)]\n",
        "agg_features = [\"agg_feat_\"+str(i) for i in range(1,73)]\n",
        "embed_names = [\"emb_feat_\"+str(i) for i in range(1,65)]\n",
        "data = pd.merge(features,emb,on='txId')\n",
        "data = pd.merge(data,classes,on='txId')\n",
        "data.columns = [\"txId\",\"time_step\"] + tx_features + agg_features + embed_names + ['class']\n",
        "\n",
        "data = ratio_data(data)\n",
        "X_train, X_test, y_train, y_test = split_data_emb(data)\n",
        "clf = RandomForestClassifier(n_estimators=50, max_features=50,max_depth=100,random_state=0).fit(X_train,y_train)\n",
        "preds = clf.predict(X_test)\n",
        "prec,rec,f1,num = precision_recall_fscore_support(y_test,preds, average=None)\n",
        "print(\"AF+SDNE RandomForest Results\")\n",
        "print(\"Precision:%.3f \\nRecall:%.3f \\nF1 Score:%.3f\"%(prec[1],rec[1],f1[1]))\n",
        "micro_f1 = f1_score(y_test,preds,average='micro')\n",
        "print(\"Micro-Average F1 Score:\",micro_f1)"
      ]
    },
    {
      "cell_type": "markdown",
      "metadata": {
        "id": "qIeVdaUSXV1p"
      },
      "source": [
        "## RF(AF+DSDNE)"
      ]
    },
    {
      "cell_type": "code",
      "execution_count": 18,
      "metadata": {
        "colab": {
          "base_uri": "https://localhost:8080/"
        },
        "id": "7Pi_8208XufN",
        "outputId": "8048bf18-10da-45ad-b655-6caaa30d90b5"
      },
      "outputs": [
        {
          "output_type": "stream",
          "name": "stdout",
          "text": [
            "AF+SDNE RandomForest Results\n",
            "Precision:0.883 \n",
            "Recall:0.695 \n",
            "F1 Score:0.778\n",
            "Micro-Average F1 Score: 0.7638660076880834\n"
          ]
        }
      ],
      "source": [
        "emb = pd.read_csv(\"/content/drive/MyDrive/SDNE/dsdne_feature_e500_b9.txt\")\n",
        "tx_features = [\"tx_feat_\"+str(i) for i in range(2,95)]\n",
        "agg_features = [\"agg_feat_\"+str(i) for i in range(1,73)]\n",
        "embed_names = [\"emb_feat_\"+str(i) for i in range(1,65)]\n",
        "data = pd.merge(features,emb,on='txId')\n",
        "data = pd.merge(data,classes,on='txId')\n",
        "data.columns = [\"txId\",\"time_step\"] + tx_features + agg_features + embed_names + ['class']\n",
        "data = ratio_data(data)\n",
        "X_train, X_test, y_train, y_test = split_data(data)\n",
        "\n",
        "clf = RandomForestClassifier(n_estimators=50, max_features=50,random_state=0,n_jobs=-1).fit(X_train,y_train)\n",
        "preds = clf.predict(X_test)\n",
        "prec,rec,f1,num = precision_recall_fscore_support(y_test,preds, average=None)\n",
        "print(\"AF+SDNE RandomForest Results\")\n",
        "print(\"Precision:%.3f \\nRecall:%.3f \\nF1 Score:%.3f\"%(prec[1],rec[1],f1[1]))\n",
        "micro_f1 = f1_score(y_test,preds,average='micro')\n",
        "print(\"Micro-Average F1 Score:\",micro_f1)\n"
      ]
    },
    {
      "cell_type": "markdown",
      "metadata": {
        "id": "dQjqmeypP4ok"
      },
      "source": [
        "## RF(DSDNE)"
      ]
    },
    {
      "cell_type": "code",
      "execution_count": null,
      "metadata": {
        "colab": {
          "background_save": true,
          "base_uri": "https://localhost:8080/"
        },
        "id": "imMKZnADP7cw",
        "outputId": "c18ca4a4-47b5-4b68-e2bd-0f6c3c2f31ae"
      },
      "outputs": [
        {
          "name": "stdout",
          "output_type": "stream",
          "text": [
            "AF+SDNE RandomForest Results\n",
            "Precision:0.622 \n",
            "Recall:0.890 \n",
            "F1 Score:0.732\n",
            "Micro-Average F1 Score: 0.6128500823723229\n"
          ]
        }
      ],
      "source": [
        "emb = pd.read_csv(\"/content/drive/MyDrive/SDNE/dsdne_feature_e500_b9.txt\")\n",
        "tx_features = [\"tx_feat_\"+str(i) for i in range(2,95)]\n",
        "agg_features = [\"agg_feat_\"+str(i) for i in range(1,73)]\n",
        "embed_names = [\"emb_feat_\"+str(i) for i in range(1,65)]\n",
        "data = pd.merge(features,emb,on='txId')\n",
        "data = pd.merge(data,classes,on='txId')\n",
        "data.columns = [\"txId\",\"time_step\"] + tx_features + agg_features + embed_names + ['class']\n",
        "data = data[(data['class']==0) | (data['class']==1)]\n",
        "data = ratio_data(data)\n",
        "X_train, X_test, y_train, y_test = split_data_emb(data)\n",
        "clf = RandomForestClassifier(n_estimators=50, max_features=50,max_depth=100,random_state=0,n_jobs=-1).fit(X_train,y_train)\n",
        "preds = clf.predict(X_test)\n",
        "prec,rec,f1,num = precision_recall_fscore_support(y_test,preds, average=None)\n",
        "print(\"AF+SDNE RandomForest Results\")\n",
        "print(\"Precision:%.3f \\nRecall:%.3f \\nF1 Score:%.3f\"%(prec[1],rec[1],f1[1]))\n",
        "micro_f1 = f1_score(y_test,preds,average='micro')\n",
        "print(\"Micro-Average F1 Score:\",micro_f1)\n"
      ]
    },
    {
      "cell_type": "code",
      "execution_count": null,
      "metadata": {
        "colab": {
          "background_save": true
        },
        "id": "HcLHPWrWkPW-"
      },
      "outputs": [],
      "source": [
        ""
      ]
    }
  ],
  "metadata": {
    "colab": {
      "name": "experiment_1.ipynb",
      "provenance": []
    },
    "kernelspec": {
      "display_name": "Python 3",
      "name": "python3"
    },
    "language_info": {
      "name": "python"
    }
  },
  "nbformat": 4,
  "nbformat_minor": 0
}