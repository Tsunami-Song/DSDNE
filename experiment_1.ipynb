{
 "cells": [
  {
   "cell_type": "markdown",
   "metadata": {
    "colab_type": "text",
    "id": "view-in-github"
   },
   "source": [
    "<a href=\"https://colab.research.google.com/github/Tsunami-Song/DSDNE/blob/main/experiment_1.ipynb\" target=\"_parent\"><img src=\"https://colab.research.google.com/assets/colab-badge.svg\" alt=\"Open In Colab\"/></a>"
   ]
  },
  {
   "cell_type": "code",
   "execution_count": 1,
   "metadata": {
    "colab": {
     "base_uri": "https://localhost:8080/"
    },
    "id": "VZviTsdRVQk9",
    "outputId": "731bcff0-9845-4dc7-ae26-396664181774"
   },
   "outputs": [
    {
     "name": "stdout",
     "output_type": "stream",
     "text": [
      "Mounted at /content/drive\n"
     ]
    },
    {
     "data": {
      "text/plain": [
       "<torch._C.Generator at 0x7f1fdc8e8730>"
      ]
     },
     "execution_count": 1,
     "metadata": {},
     "output_type": "execute_result"
    }
   ],
   "source": [
    "from google.colab import drive\n",
    "drive.mount('/content/drive')\n",
    "\n",
    "from __future__ import print_function, division\n",
    "import numpy as np \n",
    "import pandas as pd \n",
    "import os\n",
    "import networkx as nx\n",
    "from sklearn.model_selection import train_test_split\n",
    "from sklearn.linear_model import LogisticRegression\n",
    "from sklearn.metrics import precision_recall_fscore_support\n",
    "from sklearn.metrics import f1_score\n",
    "from sklearn.ensemble import RandomForestClassifier\n",
    "from sklearn.cluster import KMeans\n",
    "from sklearn.model_selection import GridSearchCV\n",
    "from sklearn.metrics import roc_curve\n",
    "import torch\n",
    "from torch.utils.data import Dataset, DataLoader\n",
    "import torch.nn as nn\n",
    "import torch.nn.functional as F\n",
    "torch.manual_seed(15)"
   ]
  },
  {
   "cell_type": "code",
   "execution_count": 2,
   "metadata": {
    "id": "bBGJL35bVpMe"
   },
   "outputs": [],
   "source": [
    "tx_features = [\"tx_feat_\"+str(i) for i in range(2,95)]\n",
    "agg_features = [\"agg_feat_\"+str(i) for i in range(1,73)]\n",
    "fea_col = [\"txId\",\"time_step\"] + tx_features + agg_features\n",
    "features = pd.read_csv(\"/content/drive/MyDrive/elliptic_bitcoin_dataset/elliptic_txs_features.csv\",header=None,names=fea_col)\n",
    "classes = pd.read_csv(\"/content/drive/MyDrive/elliptic_bitcoin_dataset/elliptic_txs_classes.csv\")"
   ]
  },
  {
   "cell_type": "markdown",
   "metadata": {
    "id": "uOTAY2_iWA96"
   },
   "source": [
    "## RF(AF)"
   ]
  },
  {
   "cell_type": "code",
   "execution_count": 20,
   "metadata": {
    "colab": {
     "base_uri": "https://localhost:8080/"
    },
    "id": "pJySz-foV-aJ",
    "outputId": "b98903cf-dbd1-447f-e312-321b485e3fd5"
   },
   "outputs": [
    {
     "name": "stdout",
     "output_type": "stream",
     "text": [
      "AF RandomForest Results\n",
      "Precision:0.983 \n",
      "Recall:0.650 \n",
      "F1 Score:0.782\n",
      "Micro-Average F1 Score: 0.9772369362920544\n"
     ]
    }
   ],
   "source": [
    "X = data[tx_features+agg_features]\n",
    "y = data['class']\n",
    "X_train, X_test, y_train, y_test = train_test_split(X,y,test_size=0.3,random_state=0,shuffle=False)\n",
    "clf = RandomForestClassifier(n_estimators=50, max_depth=100,random_state=15).fit(X_train,y_train)\n",
    "preds = clf.predict(X_test)\n",
    "prec,rec,f1,num = precision_recall_fscore_support(y_test,preds, average=None)\n",
    "print(\"AF RandomForest Results\")\n",
    "print(\"Precision:%.3f \\nRecall:%.3f \\nF1 Score:%.3f\"%(prec[1],rec[1],f1[1]))\n",
    "micro_f1 = f1_score(y_test,preds,average='micro')\n",
    "print(\"Micro-Average F1 Score:\",micro_f1)"
   ]
  },
  {
   "cell_type": "markdown",
   "metadata": {
    "id": "0p1YzyMrWO2i"
   },
   "source": [
    "## RF(AF+SDNE)"
   ]
  },
  {
   "cell_type": "code",
   "execution_count": 18,
   "metadata": {
    "colab": {
     "base_uri": "https://localhost:8080/"
    },
    "id": "Us6a16IbWK0F",
    "outputId": "73c001bc-8eb6-4eb7-ace4-f23118b63fa6"
   },
   "outputs": [
    {
     "name": "stdout",
     "output_type": "stream",
     "text": [
      "AF+SDNE RandomForest Results\n",
      "Precision:0.991 \n",
      "Recall:0.650 \n",
      "F1 Score:0.785\n",
      "Micro-Average F1 Score: 0.9775948460987831\n"
     ]
    }
   ],
   "source": [
    "emb = pd.read_csv(\"/content/drive/MyDrive/result/sdne.txt\")\n",
    "tx_features = [\"tx_feat_\"+str(i) for i in range(2,95)]\n",
    "agg_features = [\"agg_feat_\"+str(i) for i in range(1,73)]\n",
    "embed_names = [\"emb_feat_\"+str(i) for i in range(1,65)]\n",
    "data = pd.merge(features,emb,on='txId')\n",
    "data = pd.merge(data,classes,on='txId')\n",
    "data.columns = [\"txId\",\"time_step\"] + tx_features + agg_features + embed_names + ['class']\n",
    "data = data[(data['class']==0) | (data['class']==1)]\n",
    "X = data[tx_features+agg_features+embed_names]\n",
    "y = data['class']\n",
    "X_train, X_test, y_train, y_test = train_test_split(X,y,test_size=0.3,random_state=0,shuffle=False)\n",
    "clf = RandomForestClassifier(n_estimators=50, max_depth=100,random_state=15).fit(X_train,y_train)\n",
    "preds = clf.predict(X_test)\n",
    "prec,rec,f1,num = precision_recall_fscore_support(y_test,preds, average=None)\n",
    "print(\"AF+SDNE RandomForest Results\")\n",
    "print(\"Precision:%.3f \\nRecall:%.3f \\nF1 Score:%.3f\"%(prec[1],rec[1],f1[1]))\n",
    "micro_f1 = f1_score(y_test,preds,average='micro')\n",
    "print(\"Micro-Average F1 Score:\",micro_f1)"
   ]
  },
  {
   "cell_type": "markdown",
   "metadata": {
    "id": "qIeVdaUSXV1p"
   },
   "source": [
    "## RF(AF+DSDNE)"
   ]
  },
  {
   "cell_type": "code",
   "execution_count": 16,
   "metadata": {
    "colab": {
     "base_uri": "https://localhost:8080/"
    },
    "id": "ODMLSnUFWYWO",
    "outputId": "681742b0-1e1d-4af9-afd2-67294aa0f48d"
   },
   "outputs": [
    {
     "name": "stdout",
     "output_type": "stream",
     "text": [
      "AF+SDNE RandomForest Results\n",
      "Precision:0.986 \n",
      "Recall:0.655 \n",
      "F1 Score:0.787\n",
      "Micro-Average F1 Score: 0.9777380100214745\n"
     ]
    }
   ],
   "source": [
    "emb = pd.read_csv(\"/content/drive/MyDrive/SDNE/sdne_feature_stack2_sdne.txt\")\n",
    "tx_features = [\"tx_feat_\"+str(i) for i in range(2,95)]\n",
    "agg_features = [\"agg_feat_\"+str(i) for i in range(1,73)]\n",
    "embed_names = [\"emb_feat_\"+str(i) for i in range(1,65)]\n",
    "data = pd.merge(features,emb,on='txId')\n",
    "data = pd.merge(data,classes,on='txId')\n",
    "data.columns = [\"txId\",\"time_step\"] + tx_features + agg_features + embed_names + ['class']\n",
    "data = data[(data['class']==0) | (data['class']==1)]\n",
    "X = data[tx_features+agg_features+embed_names]\n",
    "y = data['class']\n",
    "X_train, X_test, y_train, y_test = train_test_split(X,y,test_size=0.3,random_state=0,shuffle=False)\n",
    "clf = RandomForestClassifier(n_estimators=50, max_depth=100,random_state=15).fit(X_train,y_train)\n",
    "preds = clf.predict(X_test)\n",
    "prec,rec,f1,num = precision_recall_fscore_support(y_test,preds, average=None)\n",
    "print(\"AF+SDNE RandomForest Results\")\n",
    "print(\"Precision:%.3f \\nRecall:%.3f \\nF1 Score:%.3f\"%(prec[1],rec[1],f1[1]))\n",
    "micro_f1 = f1_score(y_test,preds,average='micro')\n",
    "print(\"Micro-Average F1 Score:\",micro_f1)"
   ]
  },
  {
   "cell_type": "code",
   "execution_count": null,
   "metadata": {
    "id": "7Pi_8208XufN"
   },
   "outputs": [],
   "source": []
  }
 ],
 "metadata": {
  "colab": {
   "authorship_tag": "ABX9TyM85XWp+KJ9LM6PG9HJqMxq",
   "include_colab_link": true,
   "name": "experiment_1.ipynb",
   "provenance": []
  },
  "kernelspec": {
   "display_name": "Python 3 (ipykernel)",
   "language": "python",
   "name": "python3"
  },
  "language_info": {
   "codemirror_mode": {
    "name": "ipython",
    "version": 3
   },
   "file_extension": ".py",
   "mimetype": "text/x-python",
   "name": "python",
   "nbconvert_exporter": "python",
   "pygments_lexer": "ipython3",
   "version": "3.8.6"
  }
 },
 "nbformat": 4,
 "nbformat_minor": 1
}
